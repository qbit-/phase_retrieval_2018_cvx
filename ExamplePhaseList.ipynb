{
 "cells": [
  {
   "cell_type": "markdown",
   "metadata": {},
   "source": [
    "[![Open In Colab](https://colab.research.google.com/assets/colab-badge.svg)](https://colab.research.google.com/github/qbit-/phase_retrieval_2018_cvx/blob/master/ExamplePhaseList.ipynb)"
   ]
  },
  {
   "cell_type": "code",
   "execution_count": 5,
   "metadata": {},
   "outputs": [],
   "source": [
    "# This file implements the PhaseLift algorithm for phase retrieval"
   ]
  },
  {
   "cell_type": "code",
   "execution_count": 6,
   "metadata": {},
   "outputs": [],
   "source": [
    "from PIL import Image\n",
    "import matplotlib.pyplot as plt\n",
    "import numpy as np"
   ]
  },
  {
   "cell_type": "markdown",
   "metadata": {},
   "source": [
    "## Load or generate image"
   ]
  },
  {
   "cell_type": "code",
   "execution_count": 7,
   "metadata": {},
   "outputs": [
    {
     "data": {
      "text/plain": [
       "<matplotlib.image.AxesImage at 0x111944a58>"
      ]
     },
     "execution_count": 7,
     "metadata": {},
     "output_type": "execute_result"
    },
    {
     "data": {
      "image/png": "[encoded data removed]",
      "text/plain": [
       "<Figure size 360x360 with 1 Axes>"
      ]
     },
     "metadata": {},
     "output_type": "display_data"
    }
   ],
   "source": [
    "orig_img = Image.open(\"logo.jpg\")\n",
    "#image = np.array(orig_img.convert('L', (0.2989, 0.5870, 0.1140, 0))) # convert to gray\n",
    "image = np.random.randn(5, 5)\n",
    "\n",
    "%matplotlib inline\n",
    "fig, ax = plt.subplots(1, 1,figsize=(5, 5))\n",
    "ax.imshow(image, cmap = plt.get_cmap('gray'))"
   ]
  },
  {
   "cell_type": "code",
   "execution_count": 8,
   "metadata": {},
   "outputs": [
    {
     "data": {
      "image/png": "[encoded data removed]",
      "text/plain": [
       "<Figure size 360x720 with 2 Axes>"
      ]
     },
     "metadata": {},
     "output_type": "display_data"
    }
   ],
   "source": [
    "# Convert image to frequency domain\n",
    "im_spectrum = np.fft.fft2(image)\n",
    "\n",
    "%matplotlib inline\n",
    "fig, ax = plt.subplots(1, 2, figsize=(5, 10))\n",
    "ax[0].imshow(im_spectrum.real, cmap = plt.get_cmap('gray'))\n",
    "ax[0].set_title('Real')\n",
    "ax[1].imshow(im_spectrum.imag, cmap = plt.get_cmap('gray'))\n",
    "ax[1].set_title('Imaginary')\n",
    "\n",
    "x = im_spectrum.flatten()  # Convert the signal/image into a vector"
   ]
  },
  {
   "cell_type": "markdown",
   "metadata": {},
   "source": [
    "## Create sampling vectors"
   ]
  },
  {
   "cell_type": "code",
   "execution_count": 9,
   "metadata": {},
   "outputs": [],
   "source": [
    "# Define measurement operator\n",
    "def measure(invecs):\n",
    "    measurements = np.abs(np.dot(invecs, x))**2\n",
    "    return measurements    "
   ]
  },
  {
   "cell_type": "code",
   "execution_count": 10,
   "metadata": {},
   "outputs": [],
   "source": [
    "from functools import wraps\n",
    "\n",
    "def normalizeable(genfunc, default=True):\n",
    "    \"\"\"Adds a keyword function to genfunc which allows normalization of the\n",
    "    result (abs-sum over last axis yields 1)\n",
    "    \"\"\"\n",
    "\n",
    "    @wraps(genfunc)\n",
    "    def inner(*args, **kwargs):\n",
    "        try:\n",
    "            normalized = kwargs.pop('normalized')\n",
    "        except KeyError:\n",
    "            normalized = default\n",
    "\n",
    "        result = genfunc(*args, **kwargs)\n",
    "        return result / np.linalg.norm(result, axis=-1, keepdims=True) if normalized \\\n",
    "            else result\n",
    "\n",
    "    return inner\n",
    "\n",
    "\n",
    "@normalizeable\n",
    "def invecs_gaussian(dim, length, rgen=np.random):\n",
    "    \"\"\"Generates complex Gaussian random vectors with iid, N(0,1) + iN(0,1)\n",
    "    components\n",
    "\n",
    "    :param dim: Dimension of the vectors (# of components)\n",
    "    :param length: Number of vectors\n",
    "    :param rgen: Instance of `numpy.random.RandomState` (default: `np.random`)\n",
    "    :returns: (length,dim) numpy array\n",
    "\n",
    "    \"\"\"\n",
    "    return rgen.randn(length, dim) + 1.j * rgen.randn(length, dim)\n",
    "\n",
    "\n",
    "@normalizeable\n",
    "def invecs_recr(dim, nr_mm, p_erasure=1 / 2, rgen=np.random):\n",
    "    \"\"\"Generates random preparation vectors with iid components distributed\n",
    "    accorgening to a random-erased complex Rademacher (RECR) distribution,\n",
    "    that is x_i = a_i * phi_i, where\n",
    "\n",
    "        a_i ~ Bernoulli(p_erasure), phi_i ~ Uniform({1, -1, i, -i})\n",
    "\n",
    "    :param dim: Dimension of the vectors (# of components)\n",
    "    :param length: Number of vectors\n",
    "    :param p_erasure: Erasure probability\n",
    "    :returns: (length,dim) numpy array\n",
    "\n",
    "    \"\"\"\n",
    "    pvecs = []\n",
    "    while len(pvecs) < nr_mm:\n",
    "        phase = rgen.choice([1, -1, 1j, -1j], size=dim)\n",
    "        amplitude = rgen.choice([0, 1], size=dim, p=[p_erasure, 1 - p_erasure])\n",
    "        # this penalizes the choice of zero for small values of dim\n",
    "        if np.sum(amplitude) > 0:\n",
    "            pvecs.append(phase * amplitude)\n",
    "    return np.reshape(pvecs, (nr_mm, dim))\n"
   ]
  },
  {
   "cell_type": "markdown",
   "metadata": {},
   "source": [
    "## Define optimization routines"
   ]
  },
  {
   "cell_type": "code",
   "execution_count": 11,
   "metadata": {},
   "outputs": [],
   "source": [
    "import cvxpy as cvx\n",
    "import autograd.numpy as np\n",
    "from autograd import grad\n",
    "import scipy.optimize\n",
    "\n",
    "def _semidef_complex_as_real(dim):\n",
    "    \"\"\"Returns a cvxpy Semidefinite matrix and constraints for representing\n",
    "    a complex hermitian non-neg. matrix represented as\n",
    "\n",
    "                            Z = X + iY   <==> Z' = [X -Y; Y X]    (*)\n",
    "\n",
    "    :param dim: Dimension of the complex matrix\n",
    "    :returns: cvxpy.Semidef(2 * dim), List of constaints ensuring the structure\n",
    "        in (*)\n",
    "\n",
    "    \"\"\"\n",
    "    z = cvx.Variable([2 * dim, 2 * dim])\n",
    "    z.nonneg = True\n",
    "    constraints = [\n",
    "\tz[:dim, :dim] == z[dim:, dim:],\n",
    "        z[:dim, dim:] == -z[dim:, :dim]\n",
    "    ]\n",
    "    return z, constraints\n",
    "\n",
    "def lr_recover_l1(invecs, intensities, nonneg=True, **kwargs):\n",
    "    \"\"\"Computes the low-rank matrix reconstruction using l1-minimisation\n",
    "\n",
    "    .. math::\n",
    "\n",
    "            \\min_Z \\sum_i \\vert \\langle a_i| Z | a_i \\rangle - y_i \\vert \\\\\n",
    "            \\mathrm{s.t.}  Z \\ge 0\n",
    "\n",
    "    where :math:`a_i` are the input vectors and :math:`y_i` are the measured\n",
    "    intensities.\n",
    "\n",
    "    For the arguments not listed see :func:`recover`\n",
    "\n",
    "    :param bool nonneg: Enfornce the constraint Z >= 0 (default True)\n",
    "    :param kwargs: Additional arguemnts passed to `cvx.Problem.solve`\n",
    "    :returns: array of shape (dim, dim); Low-rank matrix approximation for\n",
    "        given measurements\n",
    "\n",
    "    \"\"\"\n",
    "    dim = invecs.shape[1]\n",
    "\n",
    "    # we have to manually convert convex programm to real form since cvxpy\n",
    "    # does not support complex programms\n",
    "    z, mat_cons = _semidef_complex_as_real(dim) if nonneg else \\\n",
    "        _hermitian_as_real(dim)\n",
    "    invecs_real = np.concatenate((invecs.real, invecs.imag), axis=1)\n",
    "\n",
    "    obj = cvx.Minimize(sum(cvx.abs(cvx.quad_form(a, z) - y)\n",
    "                           for a, y in zip(invecs_real, intensities)))\n",
    "\n",
    "    prob = cvx.Problem(obj, mat_cons)\n",
    "    prob.solve(**kwargs)\n",
    "\n",
    "    if prob.status not in ['optimal', 'optimal_inaccurate']:\n",
    "        raise RuntimeError(\"Optimization did not converge: \" + prob.status)\n",
    "\n",
    "    return z.value[:dim, :dim] + 1.j * z.value[dim:, :dim]\n",
    "\n",
    "\n",
    "def lr_recover_l2(invecs, intensities, nonneg=True, **kwargs):\n",
    "    \"\"\"Same as :func:`lr_recover_l1`, but using l2-minimisation\n",
    "\n",
    "    .. math::\n",
    "\n",
    "            \\min_Z \\sum_i \\vert \\langle a_i| Z | a_i \\rangle - y_i \\vert^2 \\\\\n",
    "            \\mathrm{s.t.}  Z \\ge 0\n",
    "\n",
    "    \"\"\"\n",
    "    dim = invecs.shape[1]\n",
    "    z, mat_cons = _semidef_complex_as_real(dim) if nonneg else \\\n",
    "        _hermitian_as_real(dim)\n",
    "    invecs_real = np.concatenate((invecs.real, invecs.imag), axis=1)\n",
    "\n",
    "    obj = cvx.Minimize(sum((cvx.quad_form(a, z) - y)**2\n",
    "                           for a, y in zip(invecs_real, intensities)))\n",
    "\n",
    "    prob = cvx.Problem(obj, mat_cons)\n",
    "    prob.solve(**kwargs)\n",
    "\n",
    "    if prob.status not in ['optimal', 'optimal_inaccurate']:\n",
    "        raise RuntimeError(\"Optimization did not converge: \" + prob.status)\n",
    "\n",
    "    return z.value[:dim, :dim] + 1.j * z.value[dim:, :dim]\n",
    "\n",
    "\n",
    "def lr_recover_nuclear(invecs, intensities, noise_bound=None, nonneg=True,\n",
    "                       **kwargs):\n",
    "    \"\"\"Same as :func:`lr_recover_l1`, but using nuclear norm-minimisation\n",
    "\n",
    "    .. math::\n",
    "\n",
    "            \\min_Z \\Vert Z \\Vert_1\n",
    "            \\mathrm{s.t.} \\sum_i \\vert \\langle a_i| Z | a_i \\rangle - y_i \\vert^2 \\le \\eta^2\n",
    "                           Z \\ge 0\n",
    "\n",
    "    Here, :math:`\\eta` denotes an additional a-priori noise bound. If\n",
    "    `noise_bound` is set to `None`, we assume noiseless measurements and\n",
    "    solve the following equality constrained programm instead:\n",
    "\n",
    "    .. math::\n",
    "\n",
    "            \\min_Z \\Vert Z \\Vert_1\n",
    "            \\mathrm{s.t.} \\langle a_i| Z | a_i \\rangle = y_i\n",
    "                           Z \\ge 0\n",
    "\n",
    "    Note that :func:`lr_recover_l1` and :func:`lr_recover_l2` do not require\n",
    "    an a priori noise bound and usually perform better.\n",
    "\n",
    "    :param float noise_bound: Bound for the column-wise noise :math:`\\epsilon`:\n",
    "\n",
    "    .. math::\n",
    "\n",
    "            \\Vert \\epsilon \\Vert_2 \\le \\eta\n",
    "    \"\"\"\n",
    "    dim = invecs.shape[1]\n",
    "    z, mat_cons = _semidef_complex_as_real(dim) if nonneg else \\\n",
    "        _hermitian_as_real(dim)\n",
    "    invecs_real = np.concatenate((invecs.real, invecs.imag), axis=1)\n",
    "\n",
    "    obj = cvx.Minimize(cvx.norm(z, 'nuc'))\n",
    "    if noise_bound is None:\n",
    "        cons = [cvx.quad_form(a, z) == y for a, y in\n",
    "                zip(invecs_real, intensities)]\n",
    "    else:\n",
    "        cons = [sum(cvx.square(cvx.quad_form(a, z) - y)\n",
    "                    for a, y in zip(invecs_real, intensities)) <= noise_bound**2]\n",
    "\n",
    "    prob = cvx.Problem(obj, cons + mat_cons)\n",
    "    prob.solve(**kwargs)\n",
    "\n",
    "    if prob.status not in ['optimal', 'optimal_inaccurate']:\n",
    "        raise RuntimeError(\"Optimization did not converge: \" + prob.status)\n",
    "\n",
    "    return z.value[:dim, :dim] + 1.j * z.value[dim:, :dim]\n",
    "\n",
    "\n",
    "def rank1_approx(mat, reterr=False):\n",
    "    \"\"\"Returns the best rank 1 approximation to `mat`, i.e. the singular\n",
    "    vector corresponding to the largest singular value.\n",
    "\n",
    "    :param mat: Hermitian matrix as `numpy.ndarray` with shape `(dim, dim)`.\n",
    "    :param reterr: Return the sum of the truncated singular values\n",
    "    :returns: Largest singular vector. If reterr==True, we also return the\n",
    "        error given by the sum of the discarded singular values\n",
    "\n",
    "    \"\"\"\n",
    "    vals, vecs = np.linalg.eigh(mat)\n",
    "    if reterr:\n",
    "        return np.sqrt(vals[-1]) * vecs[:, -1], np.sum(vals[:-1]) / vals[-1]\n",
    "    else:\n",
    "        return np.sqrt(vals[-1]) * vecs[:, -1]\n",
    "    \n",
    "\n",
    "def rand_angles(*args, rgen=np.random):\n",
    "    \"\"\"Returns uniform sampled random angles in [0, 2pi] of given shape\"\"\"\n",
    "    return 2 * np.pi * rgen.uniform(size=args)\n",
    "\n",
    "\n",
    "def best_invec_phase(x, y, **kwargs):\n",
    "    \"\"\"Computes the l2-distance between `x` and `y` up to a global phasefactor.\n",
    "\n",
    "    .. math::\n",
    "\n",
    "        \\min_\\phi \\Vert x - \\mathrm{e}^{i \\phi} y \\Vert_2\n",
    "\n",
    "    :param x, y: Input vectors of same length\n",
    "    :param kwargs: Parameters passed to `scipy.optimize.minimize`\n",
    "    :returns: Minimal distane (and possibly optimal vector `y`)\n",
    "\n",
    "    \"\"\"\n",
    "    norm_sq = lambda x: np.real(np.dot(np.conj(x.ravel()), x.ravel()))\n",
    "    cost = lambda phi: norm_sq(x - np.exp(1.j * phi) * y)\n",
    "    # Choose initialization randomly to evade maximimum at opposite side\n",
    "    result = scipy.optimize.minimize(cost, rand_angles(), jac=grad(cost), **kwargs)\n",
    "    y_ = np.exp(1.j * result['x']) * y\n",
    "    return y_, result['fun']"
   ]
  },
  {
   "cell_type": "markdown",
   "metadata": {},
   "source": [
    "## Finally, run recovery"
   ]
  },
  {
   "cell_type": "code",
   "execution_count": 12,
   "metadata": {},
   "outputs": [],
   "source": [
    "# lower and upper bounds of number of measurements (as a function of size)\n",
    "dim = len(x)\n",
    "NSAMPLES = 20 * dim \n",
    "\n",
    "INVECS_GENERATOR = invecs_gaussian\n",
    "OPTIM_FUNC = lr_recover_nuclear"
   ]
  },
  {
   "cell_type": "code",
   "execution_count": 13,
   "metadata": {},
   "outputs": [],
   "source": [
    "invecs = INVECS_GENERATOR(dim, NSAMPLES)\n",
    "intensities = measure(invecs)\n",
    "\n",
    "# Find X. This takes time\n",
    "result = OPTIM_FUNC(invecs, intensities)"
   ]
  },
  {
   "cell_type": "code",
   "execution_count": 14,
   "metadata": {},
   "outputs": [
    {
     "name": "stdout",
     "output_type": "stream",
     "text": [
      "rank-1 error: -0.000490277045438868\n"
     ]
    }
   ],
   "source": [
    "# Extract X and get error\n",
    "x_rec, err = rank1_approx(result, reterr=True)\n",
    "print(f\"rank-1 error: {err}\")\n",
    "\n",
    "x_rec = np.conj(x_rec)\n",
    "image_rec = np.fft.ifft2(x_rec.reshape(5, 5))"
   ]
  },
  {
   "cell_type": "code",
   "execution_count": 15,
   "metadata": {},
   "outputs": [
    {
     "data": {
      "text/plain": [
       "Text(0.5,1,'Original')"
      ]
     },
     "execution_count": 15,
     "metadata": {},
     "output_type": "execute_result"
    },
    {
     "data": {
      "image/png": "[encoded data removed]",
      "text/plain": [
       "<Figure size 360x720 with 2 Axes>"
      ]
     },
     "metadata": {},
     "output_type": "display_data"
    }
   ],
   "source": [
    "%matplotlib inline\n",
    "fig, ax = plt.subplots(1, 2, figsize=(5, 10))\n",
    "ax[0].imshow(np.abs(image_rec), cmap = plt.get_cmap('gray'))\n",
    "ax[1].imshow(image, cmap = plt.get_cmap('gray'))\n",
    "ax[0].set_title('Reconstructed')\n",
    "ax[1].set_title('Original')"
   ]
  },
  {
   "cell_type": "markdown",
   "metadata": {},
   "source": [
    "## Find the similarity metric - correlation\n",
    "## Use this function to plot phase diagram"
   ]
  },
  {
   "cell_type": "code",
   "execution_count": 16,
   "metadata": {},
   "outputs": [
    {
     "name": "stdout",
     "output_type": "stream",
     "text": [
      "0.9999999969996645\n"
     ]
    }
   ],
   "source": [
    "def corr(x, y):\n",
    "    c = 1/2 * (np.abs(\n",
    "        np.dot(x.flatten().conj(),\n",
    "        y.flatten()) / np.linalg.norm(x) / np.linalg.norm(y)) + \n",
    "        np.abs(\n",
    "        np.dot(x.flatten(),\n",
    "        y.flatten().conj()) / np.linalg.norm(x) / np.linalg.norm(y)))\n",
    "    return c\n",
    "\n",
    "print(corr(image_rec, image))"
   ]
  },
  {
   "cell_type": "code",
   "execution_count": null,
   "metadata": {},
   "outputs": [],
   "source": []
  }
 ],
 "metadata": {
  "kernelspec": {
   "display_name": "Python 3",
   "language": "python",
   "name": "python3"
  },
  "language_info": {
   "codemirror_mode": {
    "name": "ipython",
    "version": 3
   },
   "file_extension": ".py",
   "mimetype": "text/x-python",
   "name": "python",
   "nbconvert_exporter": "python",
   "pygments_lexer": "ipython3",
   "version": "3.6.7"
  }
 },
 "nbformat": 4,
 "nbformat_minor": 2
}
